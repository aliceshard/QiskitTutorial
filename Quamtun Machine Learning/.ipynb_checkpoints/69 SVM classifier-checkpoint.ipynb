{
 "cells": [
  {
   "cell_type": "markdown",
   "id": "d28e1b91",
   "metadata": {},
   "source": [
    "## Data Preparation"
   ]
  },
  {
   "cell_type": "code",
   "execution_count": 1,
   "id": "78045154",
   "metadata": {},
   "outputs": [],
   "source": [
    "# importing Qiskit\n",
    "from qiskit import *\n",
    "from qiskit.visualization import plot_histogram\n",
    "from qiskit.circuit.library import CU3Gate, U1Gate, U3Gate, CSwapGate, MCXGate\n",
    "from qiskit.providers.aer.noise import NoiseModel\n",
    "from qiskit.providers.aer.noise.errors import pauli_error, depolarizing_error\n",
    "\n",
    "import math\n",
    "import matplotlib.pyplot as plt\n",
    "import numpy as np\n",
    "\n",
    "global_qc = 0"
   ]
  },
  {
   "cell_type": "code",
   "execution_count": 2,
   "id": "37e7e781",
   "metadata": {},
   "outputs": [],
   "source": [
    "# let '6' = 1, '9' = -1\n",
    "\n",
    "X_train = [[0.987, 0.159], [0.354, 0.935]]\n",
    "y_train = [1, 0]\n",
    "#y_train = [1, -1]\n",
    "\n",
    "X_test = [[0.997, -0.072], [0.338, 0.941], [0.147, 0.989], [0.999, 0.025],\n",
    "          [0.999, -0.030], [0.439, 0.899], [0.987, -0.161], [0.173, 0.985]]\n",
    "y_test = [1, 0, 0, 1, 1, 0, 1, 0]\n",
    "#y_test = [1, -1, -1, 1, 1, -1, 1, -1]"
   ]
  },
  {
   "cell_type": "markdown",
   "id": "729b3e21",
   "metadata": {},
   "source": [
    "## Classic Algorithms"
   ]
  },
  {
   "cell_type": "code",
   "execution_count": 3,
   "id": "2b0ede7b",
   "metadata": {},
   "outputs": [],
   "source": [
    "def cal_theta(a, b):\n",
    "    return 2 * np.arctan(b/a)"
   ]
  },
  {
   "cell_type": "markdown",
   "id": "40bf0dc1",
   "metadata": {},
   "source": [
    "## Quantum Algorithms"
   ]
  },
  {
   "cell_type": "code",
   "execution_count": 4,
   "id": "d22372ea",
   "metadata": {},
   "outputs": [],
   "source": [
    "def y_init(n, y_register_start):\n",
    "    y_register_length = math.ceil(math.log(len(y_train), 2))\n",
    "    "
   ]
  },
  {
   "cell_type": "code",
   "execution_count": 5,
   "id": "27d75961",
   "metadata": {},
   "outputs": [],
   "source": [
    "def iqft(n, est_digit_start, est_digit_num):\n",
    "    qc = QuantumCircuit(n)\n",
    "    \n",
    "    for j in range(est_digit_start + est_digit_num-1, est_digit_start -1, -1):\n",
    "        for m in range(est_digit_start + est_digit_num-1, j, -1):\n",
    "            qc.cp(-math.pi / float(2 ** (m - j)), m, j) # phase, control, target\n",
    "        qc.h(j)\n",
    "    \n",
    "    \n",
    "    for qubit in range(est_digit_num//2):\n",
    "        qc.swap(qubit, est_digit_start + (est_digit_num-qubit-1))\n",
    "    \n",
    "    return qc"
   ]
  },
  {
   "cell_type": "code",
   "execution_count": 6,
   "id": "f4bf9137",
   "metadata": {},
   "outputs": [],
   "source": [
    "def phase_amp(n, est_digit_start, est_digit_num, target):\n",
    "    qc = QuantumCircuit(n)\n",
    "    \n",
    "    for count in range(est_digit_num):\n",
    "        divisor = 2 ** count\n",
    "        qc.crx(-math.pi/divisor, count + est_digit_start, target)\n",
    "    return qc"
   ]
  },
  {
   "cell_type": "code",
   "execution_count": 7,
   "id": "1d7a41e2",
   "metadata": {},
   "outputs": [],
   "source": [
    "def phase_enc(n, est_digit_start, est_digit_num, ancilla):\n",
    "    qc = QuantumCircuit(n)\n",
    "    \n",
    "    for count in range(est_digit_num):\n",
    "        divisor = 2 ** (count+2)\n",
    "        qc.cry(math.pi/divisor, count + est_digit_start, ancilla)\n",
    "    return qc"
   ]
  },
  {
   "cell_type": "code",
   "execution_count": 8,
   "id": "db224bad",
   "metadata": {},
   "outputs": [],
   "source": [
    "# only acts for length 1 b_register\n",
    "def training_oracle(n, zero_qubit, b_register_start, ancilla, auxiliary):\n",
    "    global X_train, X_test\n",
    "    theta_list = []\n",
    "    binary_list = []\n",
    "    \n",
    "    # theta calculation for each property\n",
    "    for i in range(len(X_train)):\n",
    "        theta_list.append(cal_theta(X_train[i][0], X_train[i][1]))\n",
    "        \n",
    "    # fixed length index binary string preparation | e.g.) [1,2,3,4,5] -> [001, 010, 011, 100, 101]\n",
    "    for idx in range(len(X_train)):\n",
    "        binary_list.append(\"{0:b}\".format(idx))\n",
    "        \n",
    "    binary_length = math.ceil(math.log(len(binary_list), 2))\n",
    "    if len(binary_list) != binary_length:\n",
    "        for i in range(len(binary_list)):\n",
    "            temp = []\n",
    "            s = binary_list[i]\n",
    "            for j in range(binary_length - len(s)):\n",
    "                temp.append('0')\n",
    "            s = temp + list(s)\n",
    "            binary_list[i] = s\n",
    "    \n",
    "    # build a quantum circuit\n",
    "    qc = QuantumCircuit(n)\n",
    "    # place quantum gates\n",
    "    for idx in range(len(binary_list)):\n",
    "        for digit_pos in range(binary_length-1, -1, -1):\n",
    "            if binary_list[idx][digit_pos] == '0':\n",
    "                qc.x(b_register_start + digit_pos)\n",
    "                \n",
    "        qc.mcx([x for x in range(b_register_start, auxiliary)], [auxiliary])\n",
    "        for digit_pos in range(binary_length-1, -1, -1):\n",
    "            if binary_list[idx][digit_pos] == '0':\n",
    "                qc.x(b_register_start + digit_pos)\n",
    "                \n",
    "        qc.cry(theta_list[idx], auxiliary, zero_qubit)\n",
    "        \n",
    "        for digit_pos in range(binary_length-1, -1, -1):\n",
    "            if binary_list[idx][digit_pos] == '0':\n",
    "                qc.x(b_register_start + digit_pos)\n",
    "        qc.mcx([x for x in range(b_register_start, auxiliary)], [auxiliary])\n",
    "        for digit_pos in range(binary_length-1, -1, -1):\n",
    "            if binary_list[idx][digit_pos] == '0':\n",
    "                qc.x(b_register_start + digit_pos)\n",
    "                \n",
    "    return qc"
   ]
  },
  {
   "cell_type": "code",
   "execution_count": 9,
   "id": "28aef50f",
   "metadata": {},
   "outputs": [],
   "source": [
    "def hadamard_test(n, zero_qubit, b_register_start, test_index, ancilla):\n",
    "    global X_test \n",
    "    theta0 = cal_theta(X_test[test_index][0], X_test[test_index][1])\n",
    "    \n",
    "    qc = QuantumCircuit(n)\n",
    "    qc.cry(-theta0, ancilla, zero_qubit)\n",
    "    \n",
    "    qc.ch([ancilla],[b_register_start])\n",
    "    \n",
    "    return qc"
   ]
  },
  {
   "cell_type": "code",
   "execution_count": 10,
   "id": "6407bb2e",
   "metadata": {},
   "outputs": [],
   "source": [
    "def hadamard_test2(n, zero_qubit, b_register_start, test_index, ancilla):\n",
    "    global X_test \n",
    "    theta0 = cal_theta(X_test[test_index][0], X_test[test_index][1])\n",
    "    \n",
    "    qc = QuantumCircuit(n)\n",
    "    qc.cry(-theta0, ancilla, zero_qubit)\n",
    "    \n",
    "    return qc"
   ]
  },
  {
   "cell_type": "code",
   "execution_count": 11,
   "id": "e1427f52",
   "metadata": {},
   "outputs": [],
   "source": [
    "def phase_amp_paper1(n, est_digit_start, est_digit_num, target):\n",
    "    qc = QuantumCircuit(n)\n",
    "    \n",
    "    qc.append(U1Gate(3.17, est_digit_start), 0)\n",
    "    qc.append(U1Gate(1.59, est_digit_start + 1), 1)\n",
    "    qc.append(CU3Gate(math.pi, math.pi/2, -math.pi/2), [est_digit_start, target])\n",
    "    qc.append(CU3Gate(math.pi/2, math.pi/2, -math.pi/2), [est_digit_start+1, target])\n",
    "    return qc.inverse().inverse()"
   ]
  },
  {
   "cell_type": "code",
   "execution_count": 12,
   "id": "792c2007",
   "metadata": {},
   "outputs": [],
   "source": [
    "def phase_amp_paper2(n, est_digit_start, est_digit_num, target):\n",
    "    qc = QuantumCircuit(n)\n",
    "    \n",
    "    qc.append(U1Gate(-3.17, est_digit_start + 1), [1])\n",
    "    qc.append(U1Gate(-1.59, est_digit_start), [0])\n",
    "    qc.append(CU3Gate(-math.pi/2, math.pi/2, -math.pi/2), [est_digit_start, target])\n",
    "    qc.append(CU3Gate(-math.pi, math.pi/2, -math.pi/2), [est_digit_start+1, target])\n",
    "    return qc.inverse().inverse()"
   ]
  },
  {
   "cell_type": "code",
   "execution_count": 13,
   "id": "45317982",
   "metadata": {},
   "outputs": [],
   "source": [
    "def swap_test(n, state_qubit1, state_qubit2, ancilla, auxiliary):\n",
    "    qc = QuantumCircuit(n)\n",
    "    \n",
    "    qc.h(auxiliary)\n",
    "    qc.append(MCXGate(2), [ancilla, state_qubit2, state_qubit1])\n",
    "    qc.append(MCXGate(3), [ancilla, auxiliary, state_qubit1, state_qubit2])\n",
    "    qc.append(MCXGate(2), [ancilla, state_qubit2, state_qubit1])\n",
    "    qc.h(auxiliary)\n",
    "    return qc.inverse().inverse()"
   ]
  },
  {
   "cell_type": "markdown",
   "id": "57364e7a",
   "metadata": {},
   "source": [
    "## Main"
   ]
  },
  {
   "cell_type": "code",
   "execution_count": 14,
   "id": "06cdc1d6",
   "metadata": {
    "scrolled": true
   },
   "outputs": [],
   "source": [
    "def main_func_ver1(n, test_index, ancilla, auxiliary, shots):\n",
    "    global global_qc\n",
    "    qc = QuantumCircuit(n,1)\n",
    "\n",
    "    first_amp = phase_amp(n,0,2,2).to_gate()\n",
    "    first_amp.label = 'Phase Amp'\n",
    "    first_iqft = iqft(n,0,2).to_gate()\n",
    "    first_iqft.label = 'IQFT'\n",
    "    phase_encoding = phase_enc(n, 0, 2, 3).to_gate()\n",
    "    phase_encoding.label = 'Phase Enc'\n",
    "    second_iqft = iqft(n,0,2).to_gate().inverse()\n",
    "    second_iqft.label = 'IQFT†'\n",
    "    second_amp = phase_amp(n,0,2,2).inverse().to_gate()\n",
    "    second_amp.label = 'Phase Amp†'\n",
    "    train_oracle = training_oracle(n, 1, 2, 3, 4).to_gate()\n",
    "    train_oracle.label = 'Training Oracle'\n",
    "    hada_test = hadamard_test(n, 1, 2, test_index, 3).to_gate()\n",
    "    hada_test.label = 'Hadamard Test'\n",
    "\n",
    "    qc.append(U3Gate(-math.pi/2,0,0), [2])\n",
    "    qc.barrier()\n",
    "    qc.h([0,1])\n",
    "    qc.barrier()\n",
    "    qc.append(first_amp, range(n))\n",
    "    qc.append(first_iqft, range(n))\n",
    "    qc.barrier()\n",
    "    qc.append(phase_encoding, range(n))\n",
    "    qc.barrier()\n",
    "    qc.append(second_iqft, range(n))\n",
    "    qc.append(second_amp, range(n))\n",
    "    qc.barrier()\n",
    "    qc.h([0,1])\n",
    "    qc.barrier()\n",
    "    qc.append(train_oracle, range(n))\n",
    "    qc.append(hada_test, range(n))\n",
    "    qc.barrier()\n",
    "    qc.h(ancilla)\n",
    "    qc.measure(ancilla, 0)\n",
    "    global_qc = qc\n",
    "    \n",
    "    aer_sim = Aer.get_backend('aer_simulator')\n",
    "    t_classify = transpile(qc, aer_sim)\n",
    "    qobj = assemble(t_classify, shots=shots)\n",
    "    results = aer_sim.run(qobj).result()\n",
    "    answer = results.get_counts()\n",
    "    return answer"
   ]
  },
  {
   "cell_type": "code",
   "execution_count": 15,
   "id": "aa9c34db",
   "metadata": {},
   "outputs": [],
   "source": [
    "def main_func_ver2(n, test_index, ancilla, auxiliary, shots):\n",
    "    global global_qc\n",
    "    qc = QuantumCircuit(n,2)\n",
    "\n",
    "    first_amp = phase_amp_paper1(n,0,2,2).to_gate()\n",
    "    first_amp.label = 'Phase Amp'\n",
    "    first_iqft = iqft(n,0,2).to_gate()\n",
    "    first_iqft.label = 'IQFT'\n",
    "    phase_encoding = phase_enc(n, 0, 2, 3).to_gate()\n",
    "    phase_encoding.label = 'Phase Enc'\n",
    "    second_iqft = iqft(n,0,2).to_gate().inverse()\n",
    "    second_iqft.label = 'IQFT†'\n",
    "    second_amp = phase_amp_paper2(n,0,2,2).to_gate()\n",
    "    second_amp.label = 'Phase Amp†'\n",
    "    train_oracle = training_oracle(n, 1, 2, 3, 4).to_gate()\n",
    "    train_oracle.label = 'Training Oracle'\n",
    "    swap_test_gate = swap_test(n, 0, 1, 3, 4).to_gate()\n",
    "    swap_test_gate.label = 'Swap Test'\n",
    "\n",
    "    qc.append(U3Gate(-math.pi/2,0,0), [2])\n",
    "    qc.barrier()\n",
    "    qc.h([0,1])\n",
    "    qc.barrier()\n",
    "    qc.append(first_amp, range(n))\n",
    "    qc.append(first_iqft, range(n))\n",
    "    qc.barrier()\n",
    "    qc.append(phase_encoding, range(n))\n",
    "    qc.barrier()\n",
    "    qc.append(second_iqft, range(n))\n",
    "    qc.append(second_amp, range(n))\n",
    "    qc.barrier()\n",
    "    qc.h([0,1])\n",
    "    qc.barrier()\n",
    "    qc.x(0)\n",
    "    qc.h(0)\n",
    "    qc.append(train_oracle, range(n))\n",
    "    qc.append(swap_test_gate, range(n))\n",
    "    qc.barrier()\n",
    "    qc.h(ancilla)\n",
    "    qc.measure(ancilla, 0)\n",
    "    qc.measure(auxiliary, 1)\n",
    "    global_qc = qc\n",
    "    \n",
    "    aer_sim = Aer.get_backend('aer_simulator')\n",
    "    t_classify = transpile(qc, aer_sim)\n",
    "    qobj = assemble(t_classify, shots=shots)\n",
    "    results = aer_sim.run(qobj).result()\n",
    "    answer = results.get_counts()\n",
    "    return answer"
   ]
  },
  {
   "cell_type": "code",
   "execution_count": 16,
   "id": "824876db",
   "metadata": {},
   "outputs": [],
   "source": [
    "def main_func_ver3(n, test_index, ancilla, auxiliary, shots):\n",
    "    global global_qc\n",
    "    qc = QuantumCircuit(n,2)\n",
    "\n",
    "    first_amp =  phase_amp(n,0,2,2).to_gate()\n",
    "    first_amp.label = 'Phase Amp'\n",
    "    first_iqft = iqft(n,0,2).to_gate()\n",
    "    first_iqft.label = 'IQFT'\n",
    "    phase_encoding = phase_enc(n, 0, 2, 3).to_gate()\n",
    "    phase_encoding.label = 'Phase Enc'\n",
    "    second_iqft = iqft(n,0,2).to_gate().inverse()\n",
    "    second_iqft.label = 'IQFT†'\n",
    "    second_amp =phase_amp(n,0,2,2).inverse().to_gate()\n",
    "    second_amp.label = 'Phase Amp†'\n",
    "    train_oracle = training_oracle(n, 1, 2, 3, 4).to_gate()\n",
    "    train_oracle.label = 'Training Oracle'\n",
    "    hada_test_gate = hadamard_test(n, 1, 2, test_index, 3).to_gate()\n",
    "    hada_test_gate.label = ' Hadamard Test'\n",
    "\n",
    "    qc.append(U3Gate(-math.pi/2,0,0), [2])\n",
    "    qc.barrier()\n",
    "    qc.h([0,1])\n",
    "    qc.barrier()\n",
    "    qc.append(first_amp, range(n))\n",
    "    qc.append(first_iqft, range(n))\n",
    "    qc.barrier()\n",
    "    qc.append(phase_encoding, range(n))\n",
    "    qc.barrier()\n",
    "    qc.append(second_iqft, range(n))\n",
    "    qc.append(second_amp, range(n))\n",
    "    qc.barrier()\n",
    "    qc.h([0,1])\n",
    "    \n",
    "    '''\n",
    "    qc.barrier()\n",
    "    qc.append(train_oracle, range(n))\n",
    "    qc.append(hada_test_gate, range(n))\n",
    "    qc.barrier()\n",
    "    #qc.measure(ancilla-2, 0)\n",
    "    qc.measure(ancilla-1, 0)\n",
    "    #qc.measure(ancilla, 2)\n",
    "    global_qc = qc\n",
    "    '''\n",
    "    qc.measure(ancilla-1, 1)\n",
    "    qc.measure(ancilla,0)\n",
    "    global_qc = qc\n",
    "    \n",
    "    aer_sim = Aer.get_backend('aer_simulator')\n",
    "    t_classify = transpile(qc, aer_sim)\n",
    "    qobj = assemble(t_classify, shots=shots)\n",
    "    results = aer_sim.run(qobj).result()\n",
    "    answer = results.get_counts()\n",
    "    return answer"
   ]
  },
  {
   "cell_type": "markdown",
   "id": "1d2169fa",
   "metadata": {},
   "source": [
    "## Simulation"
   ]
  },
  {
   "cell_type": "code",
   "execution_count": 17,
   "id": "9598079b",
   "metadata": {},
   "outputs": [],
   "source": [
    "import pandas as pd"
   ]
  },
  {
   "cell_type": "code",
   "execution_count": 31,
   "id": "ff923eb1",
   "metadata": {},
   "outputs": [
    {
     "data": {
      "image/png": "[encoded data removed]",
      "text/plain": [
       "<Figure size 504x360 with 1 Axes>"
      ]
     },
     "execution_count": 31,
     "metadata": {},
     "output_type": "execute_result"
    }
   ],
   "source": [
    "predicts = []\n",
    "shots = 8192\n",
    "test_index = 5\n",
    "\n",
    "'''\n",
    "for test_index in range(len(y_test)):\n",
    "    row = main_func_ver1(5, test_index, 3, 4, shots)\n",
    "    ptg = [row['0']/shots, row['1']/shots]\n",
    "    predicts.append(ptg)\n",
    "pd.DataFrame(predicts)\n",
    "'''\n",
    "plot_histogram(main_func_ver3(5, test_index, 3, 4, shots))"
   ]
  },
  {
   "cell_type": "code",
   "execution_count": 32,
   "id": "d2796140",
   "metadata": {},
   "outputs": [
    {
     "data": {
      "image/png": "[encoded data removed]",
      "text/plain": [
       "<Figure size 1230.4x385.28 with 1 Axes>"
      ]
     },
     "execution_count": 32,
     "metadata": {},
     "output_type": "execute_result"
    }
   ],
   "source": [
    "global_qc.draw()"
   ]
  },
  {
   "cell_type": "markdown",
   "id": "3d2f8700",
   "metadata": {},
   "source": [
    "## Playground"
   ]
  },
  {
   "cell_type": "code",
   "execution_count": 37,
   "id": "e87099ab",
   "metadata": {},
   "outputs": [
    {
     "data": {
      "image/png": "[encoded data removed]",
      "text/plain": [
       "<Figure size 206.997x325.08 with 1 Axes>"
      ]
     },
     "execution_count": 37,
     "metadata": {},
     "output_type": "execute_result"
    }
   ],
   "source": [
    "n = 5\n",
    "test_index = 7\n",
    "'''\n",
    "    first_amp =  phase_amp(n,0,2,2).to_gate()\n",
    "    first_amp.label = 'Phase Amp'\n",
    "    first_iqft = iqft(n,0,2).to_gate()\n",
    "    first_iqft.label = 'IQFT'\n",
    "    phase_encoding = phase_enc(n, 0, 2, 3).to_gate()\n",
    "    phase_encoding.label = 'Phase Enc'\n",
    "    second_iqft = iqft(n,0,2).to_gate().inverse()\n",
    "    second_iqft.label = 'IQFT†'\n",
    "    second_amp =phase_amp(n,0,2,2).inverse().to_gate()\n",
    "    second_amp.label = 'Phase Amp†'\n",
    "    train_oracle = training_oracle(n, 1, 2, 3, 4).to_gate()\n",
    "    train_oracle.label = 'Training Oracle'\n",
    "    hada_test_gate = hadamard_test(n, 1, 2, test_index, 3).to_gate()\n",
    "    hada_test_gate.label = ' Hadamard Test'\n",
    "'''\n",
    "amp = phase_enc(n, 0, 2, 3)\n",
    "amp.draw()\n"
   ]
  },
  {
   "cell_type": "code",
   "execution_count": null,
   "id": "e98bc1ea",
   "metadata": {},
   "outputs": [],
   "source": [
    "list(range(1,-1,-1))"
   ]
  },
  {
   "cell_type": "code",
   "execution_count": null,
   "id": "53a0066f",
   "metadata": {},
   "outputs": [],
   "source": [
    "def phase_amp_paper(n=5, est_digit_start=0, est_digit_num=2, target=2):\n",
    "    qc = QuantumCircuit(n)\n",
    "    \n",
    "    qc.append(U1Gate(3.17, est_digit_start), [0])\n",
    "    qc.append(U1Gate(1.59, est_digit_start + 1), [1])\n",
    "    qc.append(CU3Gate(math.pi, math.pi/2, -math.pi/2), [est_digit_start, target])\n",
    "    qc.append(CU3Gate(math.pi/2, math.pi/2, -math.pi/2), [est_digit_start+1, target])\n",
    "    return qc\n",
    "qc = phase_amp_paper(5,0,2,2).inverse().inverse()\n",
    "qc.draw()"
   ]
  },
  {
   "cell_type": "code",
   "execution_count": null,
   "id": "5cf59a43",
   "metadata": {},
   "outputs": [],
   "source": [
    "    qc = QuantumCircuit(n)\n",
    "    \n",
    "    qc.append(U1Gate(3.17, est_digit_start), [0])\n",
    "    qc.append(U1Gate(1.50, est_digit_start + 1), [1])\n",
    "    qc.append(CU3Gate(math.pi, math.pi/2, -math.pi/2), [est_digit_start, target])\n",
    "    qc.append(CU3Gate(math.pi/2, math.pi/2, -math.pi/2), [est_digit_start+1, target])"
   ]
  },
  {
   "cell_type": "code",
   "execution_count": null,
   "id": "b46f3b14",
   "metadata": {},
   "outputs": [],
   "source": [
    "aer_sim = Aer.get_backend('aer_simulator')\n",
    "t_classify = transpile(global_qc, aer_sim)\n",
    "qobj = assemble(t_classify, shots=shots)\n",
    "results = aer_sim.run(qobj).result()\n",
    "answer = results.get_counts()"
   ]
  },
  {
   "cell_type": "code",
   "execution_count": null,
   "id": "6042f662",
   "metadata": {},
   "outputs": [],
   "source": []
  }
 ],
 "metadata": {
  "kernelspec": {
   "display_name": "Python 3 (ipykernel)",
   "language": "python",
   "name": "python3"
  },
  "language_info": {
   "codemirror_mode": {
    "name": "ipython",
    "version": 3
   },
   "file_extension": ".py",
   "mimetype": "text/x-python",
   "name": "python",
   "nbconvert_exporter": "python",
   "pygments_lexer": "ipython3",
   "version": "3.9.12"
  }
 },
 "nbformat": 4,
 "nbformat_minor": 5
}
