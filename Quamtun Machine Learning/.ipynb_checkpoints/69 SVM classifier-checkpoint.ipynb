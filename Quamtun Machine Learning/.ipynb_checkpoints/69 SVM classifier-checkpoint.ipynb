{
 "cells": [
  {
   "cell_type": "markdown",
   "id": "d28e1b91",
   "metadata": {},
   "source": [
    "## Data Preparation"
   ]
  },
  {
   "cell_type": "code",
   "execution_count": 41,
   "id": "78045154",
   "metadata": {},
   "outputs": [],
   "source": [
    "from qiskit import IBMQ, Aer, transpile, assemble\n",
    "from qiskit import QuantumCircuit, ClassicalRegister, QuantumRegister\n",
    "from qiskit.visualization import plot_histogram\n",
    "from qiskit.circuit.library.standard_gates import RXGate, MCXGate, CHGate\n",
    "\n",
    "import math\n",
    "import matplotlib.pyplot as plt\n",
    "import numpy as np"
   ]
  },
  {
   "cell_type": "code",
   "execution_count": 42,
   "id": "37e7e781",
   "metadata": {},
   "outputs": [],
   "source": [
    "# let '6' = 1, '9' = -1\n",
    "\n",
    "X_train = [[0.987, 0.159], [0.354, 0.935]]\n",
    "y_train = [1, 0]\n",
    "#y_train = [1, -1]\n",
    "\n",
    "X_test = [[0.997, -0.072], [0.338, 0.941], [0.147, 0.989], [0.999, 0.025],\n",
    "          [0.999, -0.030], [0.439, 0.899], [0.987, -0.161], [0.173, 0.985]]\n",
    "y_test = [1, 0, 0, 1, 1, 0, 1, 0]\n",
    "#y_test = [1, -1, -1, 1, 1, -1, 1, -1]"
   ]
  },
  {
   "cell_type": "markdown",
   "id": "729b3e21",
   "metadata": {},
   "source": [
    "## Classic Algorithms"
   ]
  },
  {
   "cell_type": "code",
   "execution_count": 43,
   "id": "2b0ede7b",
   "metadata": {},
   "outputs": [],
   "source": [
    "def cal_theta(a, b):\n",
    "    return 2 * np.arctan(b/a)"
   ]
  },
  {
   "cell_type": "markdown",
   "id": "40bf0dc1",
   "metadata": {},
   "source": [
    "## Quantum Algorithms"
   ]
  },
  {
   "cell_type": "code",
   "execution_count": 62,
   "id": "27d75961",
   "metadata": {},
   "outputs": [],
   "source": [
    "def iqft(n):\n",
    "    qc = QuantumCircuit(n)\n",
    "    \n",
    "    for qubit in range(4 // 2):\n",
    "        qc.swap(qubit, 4 - (qubit + 1))\n",
    "    #qc.barrier()\n",
    "    for j in range(4):\n",
    "        for m in range(j):\n",
    "            qc.cp(-math.pi / float(2 ** (j - m)), m, j)\n",
    "        qc.h(j)\n",
    "        #qc.barrier()\n",
    "    return qc.decompose()"
   ]
  },
  {
   "cell_type": "code",
   "execution_count": 45,
   "id": "f4bf9137",
   "metadata": {},
   "outputs": [],
   "source": [
    "def phase_amp(n, est_digit_start, est_digit_num, target):\n",
    "    qc = QuantumCircuit(n)\n",
    "    \n",
    "    for count in range(est_digit_num):\n",
    "        divisor = 2 ** (count+1) \n",
    "        qc.crx(-math.pi/divisor, count + est_digit_start, target)\n",
    "    return qc.decompose()"
   ]
  },
  {
   "cell_type": "code",
   "execution_count": 46,
   "id": "1d7a41e2",
   "metadata": {},
   "outputs": [],
   "source": [
    "def phase_enc(n, est_digit_start, est_digit_num, ancilla):\n",
    "    qc = QuantumCircuit(n)\n",
    "    \n",
    "    for count in range(est_digit_num):\n",
    "        divisor = 2 ** (count+2)\n",
    "        qc.cry(-math.pi/divisor, count + est_digit_start, ancilla)\n",
    "    return qc.decompose()"
   ]
  },
  {
   "cell_type": "code",
   "execution_count": 79,
   "id": "db224bad",
   "metadata": {},
   "outputs": [],
   "source": [
    "def training_oracle(n, zero_qubit, b_register_start, ancilla, auxiliary):\n",
    "    global X_train, X_test\n",
    "    theta_list = []\n",
    "    binary_list = []\n",
    "    \n",
    "    # theta calculation for each property\n",
    "    for i in range(len(X_train)):\n",
    "        theta_list.append(cal_theta(X_train[i][0], X_train[i][1]))\n",
    "        \n",
    "    # fixed length index binary string preparation | e.g.) [1,2,3,4,5] -> [001, 010, 011, 100, 101]\n",
    "    for idx in range(len(X_train)):\n",
    "        binary_list.append(\"{0:b}\".format(idx))\n",
    "        \n",
    "    binary_length = math.ceil(math.log(len(binary_list), 2))\n",
    "    if len(binary_list) != binary_length:\n",
    "        for i in range(len(binary_list)):\n",
    "            temp = []\n",
    "            s = binary_list[i]\n",
    "            for j in range(binary_length - len(s)):\n",
    "                temp.append('0')\n",
    "            s = temp + list(s)\n",
    "            binary_list[i] = s\n",
    "    \n",
    "    # build a quantum circuit\n",
    "    qc = QuantumCircuit(n)\n",
    "    for idx in range(len(binary_list)):\n",
    "        Xgate_qubit = []\n",
    "        for digit_pos in range(binary_length-1, -1, -1):\n",
    "            print(digit_pos)\n",
    "            if binary_list[idx][digit_pos] == '0':\n",
    "                Xgate_qubit.append(digit_pos)\n",
    "        \n",
    "        # place quantum gates\n",
    "        for qubit_pos in Xgate_qubit:\n",
    "            qc.x(b_register_start + qubit_pos)\n",
    "        mcx = MCXGate(binary_length + 2) # 2 = ancilla + auxiliary\n",
    "        for qubit_pos in Xgate_qubit:\n",
    "            qc.x(b_register_start + qubit_pos)\n",
    "            \n",
    "        qc.append(mcx, [x for x in range(b_register_start, b_register_start + binary_length + 2)])\n",
    "        qc.cry(theta_list[idx], auxiliary, zero_qubit)\n",
    "        \n",
    "        for qubit_pos in Xgate_qubit:\n",
    "            qc.x(b_register_start + qubit_pos)\n",
    "        mcx = MCXGate(binary_length + 2)\n",
    "        for qubit_pos in Xgate_qubit:\n",
    "            qc.x(b_register_start + qubit_pos)\n",
    "    return qc.decompose()"
   ]
  },
  {
   "cell_type": "code",
   "execution_count": 48,
   "id": "28aef50f",
   "metadata": {},
   "outputs": [],
   "source": [
    "def hadamard_test(n, zero_qubit, b_register_start, test_index, ancilla):\n",
    "    global X_test \n",
    "    theta0 = cal_theta(X_test[test_index][0], X_test[text_index][1])\n",
    "    \n",
    "    qc = QuantumCircuit(n)\n",
    "    qc.cry(-theta0, ancilla, zero_qubit)\n",
    "    \n",
    "    ch = CHGate()\n",
    "    qc.append(ch, [b_register_start, ancilla])\n",
    "    \n",
    "    return qc.decompose()"
   ]
  },
  {
   "cell_type": "markdown",
   "id": "57364e7a",
   "metadata": {},
   "source": [
    "## Main"
   ]
  },
  {
   "cell_type": "code",
   "execution_count": 80,
   "id": "06cdc1d6",
   "metadata": {},
   "outputs": [
    {
     "name": "stdout",
     "output_type": "stream",
     "text": [
      "0\n"
     ]
    },
    {
     "ename": "CircuitError",
     "evalue": "'The amount of qubit(3)/clbit(0) arguments does not match the gate expectation (4).'",
     "output_type": "error",
     "traceback": [
      "\u001b[1;31m---------------------------------------------------------------------------\u001b[0m",
      "\u001b[1;31mCircuitError\u001b[0m                              Traceback (most recent call last)",
      "Input \u001b[1;32mIn [80]\u001b[0m, in \u001b[0;36m<cell line: 16>\u001b[1;34m()\u001b[0m\n\u001b[0;32m     14\u001b[0m second_amp \u001b[38;5;241m=\u001b[39m phase_amp(n,\u001b[38;5;241m0\u001b[39m,\u001b[38;5;241m2\u001b[39m,\u001b[38;5;241m2\u001b[39m)\u001b[38;5;241m.\u001b[39mto_gate()\u001b[38;5;241m.\u001b[39minverse()\n\u001b[0;32m     15\u001b[0m second_amp\u001b[38;5;241m.\u001b[39mlabel \u001b[38;5;241m=\u001b[39m \u001b[38;5;124m'\u001b[39m\u001b[38;5;124mPhase Amp†\u001b[39m\u001b[38;5;124m'\u001b[39m\n\u001b[1;32m---> 16\u001b[0m train_oracle \u001b[38;5;241m=\u001b[39m \u001b[43mtraining_oracle\u001b[49m\u001b[43m(\u001b[49m\u001b[43mn\u001b[49m\u001b[43m,\u001b[49m\u001b[43m \u001b[49m\u001b[38;5;241;43m1\u001b[39;49m\u001b[43m,\u001b[49m\u001b[43m \u001b[49m\u001b[38;5;241;43m2\u001b[39;49m\u001b[43m,\u001b[49m\u001b[43m \u001b[49m\u001b[38;5;241;43m3\u001b[39;49m\u001b[43m,\u001b[49m\u001b[43m \u001b[49m\u001b[38;5;241;43m4\u001b[39;49m\u001b[43m)\u001b[49m\u001b[38;5;241m.\u001b[39mto_gate()\n\u001b[0;32m     17\u001b[0m train_oracle\u001b[38;5;241m.\u001b[39mlabel \u001b[38;5;241m=\u001b[39m \u001b[38;5;124m'\u001b[39m\u001b[38;5;124mTraining Oracle\u001b[39m\u001b[38;5;124m'\u001b[39m\n\u001b[0;32m     20\u001b[0m qc\u001b[38;5;241m.\u001b[39mh([\u001b[38;5;241m0\u001b[39m,\u001b[38;5;241m1\u001b[39m])\n",
      "Input \u001b[1;32mIn [79]\u001b[0m, in \u001b[0;36mtraining_oracle\u001b[1;34m(n, zero_qubit, b_register_start, ancilla, auxiliary)\u001b[0m\n\u001b[0;32m     37\u001b[0m \u001b[38;5;28;01mfor\u001b[39;00m qubit_pos \u001b[38;5;129;01min\u001b[39;00m Xgate_qubit:\n\u001b[0;32m     38\u001b[0m     qc\u001b[38;5;241m.\u001b[39mx(b_register_start \u001b[38;5;241m+\u001b[39m qubit_pos)\n\u001b[1;32m---> 40\u001b[0m \u001b[43mqc\u001b[49m\u001b[38;5;241;43m.\u001b[39;49m\u001b[43mappend\u001b[49m\u001b[43m(\u001b[49m\u001b[43mmcx\u001b[49m\u001b[43m,\u001b[49m\u001b[43m \u001b[49m\u001b[43m[\u001b[49m\u001b[43mx\u001b[49m\u001b[43m \u001b[49m\u001b[38;5;28;43;01mfor\u001b[39;49;00m\u001b[43m \u001b[49m\u001b[43mx\u001b[49m\u001b[43m \u001b[49m\u001b[38;5;129;43;01min\u001b[39;49;00m\u001b[43m \u001b[49m\u001b[38;5;28;43mrange\u001b[39;49m\u001b[43m(\u001b[49m\u001b[43mb_register_start\u001b[49m\u001b[43m,\u001b[49m\u001b[43m \u001b[49m\u001b[43mb_register_start\u001b[49m\u001b[43m \u001b[49m\u001b[38;5;241;43m+\u001b[39;49m\u001b[43m \u001b[49m\u001b[43mbinary_length\u001b[49m\u001b[43m \u001b[49m\u001b[38;5;241;43m+\u001b[39;49m\u001b[43m \u001b[49m\u001b[38;5;241;43m2\u001b[39;49m\u001b[43m)\u001b[49m\u001b[43m]\u001b[49m\u001b[43m)\u001b[49m\n\u001b[0;32m     41\u001b[0m qc\u001b[38;5;241m.\u001b[39mcry(theta_list[idx], auxiliary, zero_qubit)\n\u001b[0;32m     43\u001b[0m \u001b[38;5;28;01mfor\u001b[39;00m qubit_pos \u001b[38;5;129;01min\u001b[39;00m Xgate_qubit:\n",
      "File \u001b[1;32mC:\\Dev\\conda_client\\lib\\site-packages\\qiskit\\circuit\\quantumcircuit.py:1279\u001b[0m, in \u001b[0;36mQuantumCircuit.append\u001b[1;34m(self, instruction, qargs, cargs)\u001b[0m\n\u001b[0;32m   1277\u001b[0m     requester \u001b[38;5;241m=\u001b[39m \u001b[38;5;28mself\u001b[39m\u001b[38;5;241m.\u001b[39m_resolve_classical_resource\n\u001b[0;32m   1278\u001b[0m instructions \u001b[38;5;241m=\u001b[39m InstructionSet(resource_requester\u001b[38;5;241m=\u001b[39mrequester)\n\u001b[1;32m-> 1279\u001b[0m \u001b[38;5;28;01mfor\u001b[39;00m qarg, carg \u001b[38;5;129;01min\u001b[39;00m \u001b[43moperation\u001b[49m\u001b[38;5;241;43m.\u001b[39;49m\u001b[43mbroadcast_arguments\u001b[49m\u001b[43m(\u001b[49m\u001b[43mexpanded_qargs\u001b[49m\u001b[43m,\u001b[49m\u001b[43m \u001b[49m\u001b[43mexpanded_cargs\u001b[49m\u001b[43m)\u001b[49m:\n\u001b[0;32m   1280\u001b[0m     \u001b[38;5;28mself\u001b[39m\u001b[38;5;241m.\u001b[39m_check_dups(qarg)\n\u001b[0;32m   1281\u001b[0m     instruction \u001b[38;5;241m=\u001b[39m CircuitInstruction(operation, qarg, carg)\n",
      "File \u001b[1;32mC:\\Dev\\conda_client\\lib\\site-packages\\qiskit\\circuit\\gate.py:199\u001b[0m, in \u001b[0;36mGate.broadcast_arguments\u001b[1;34m(self, qargs, cargs)\u001b[0m\n\u001b[0;32m    162\u001b[0m \u001b[38;5;124;03m\"\"\"Validation and handling of the arguments and its relationship.\u001b[39;00m\n\u001b[0;32m    163\u001b[0m \n\u001b[0;32m    164\u001b[0m \u001b[38;5;124;03mFor example, ``cx([q[0],q[1]], q[2])`` means ``cx(q[0], q[2]); cx(q[1], q[2])``. This\u001b[39;00m\n\u001b[1;32m   (...)\u001b[0m\n\u001b[0;32m    196\u001b[0m \u001b[38;5;124;03m        arguments does not match the gate expectation.\u001b[39;00m\n\u001b[0;32m    197\u001b[0m \u001b[38;5;124;03m\"\"\"\u001b[39;00m\n\u001b[0;32m    198\u001b[0m \u001b[38;5;28;01mif\u001b[39;00m \u001b[38;5;28mlen\u001b[39m(qargs) \u001b[38;5;241m!=\u001b[39m \u001b[38;5;28mself\u001b[39m\u001b[38;5;241m.\u001b[39mnum_qubits \u001b[38;5;129;01mor\u001b[39;00m cargs:\n\u001b[1;32m--> 199\u001b[0m     \u001b[38;5;28;01mraise\u001b[39;00m CircuitError(\n\u001b[0;32m    200\u001b[0m         \u001b[38;5;124mf\u001b[39m\u001b[38;5;124m\"\u001b[39m\u001b[38;5;124mThe amount of qubit(\u001b[39m\u001b[38;5;132;01m{\u001b[39;00m\u001b[38;5;28mlen\u001b[39m(qargs)\u001b[38;5;132;01m}\u001b[39;00m\u001b[38;5;124m)/clbit(\u001b[39m\u001b[38;5;132;01m{\u001b[39;00m\u001b[38;5;28mlen\u001b[39m(cargs)\u001b[38;5;132;01m}\u001b[39;00m\u001b[38;5;124m) arguments does\u001b[39m\u001b[38;5;124m\"\u001b[39m\n\u001b[0;32m    201\u001b[0m         \u001b[38;5;124mf\u001b[39m\u001b[38;5;124m\"\u001b[39m\u001b[38;5;124m not match the gate expectation (\u001b[39m\u001b[38;5;132;01m{\u001b[39;00m\u001b[38;5;28mself\u001b[39m\u001b[38;5;241m.\u001b[39mnum_qubits\u001b[38;5;132;01m}\u001b[39;00m\u001b[38;5;124m).\u001b[39m\u001b[38;5;124m\"\u001b[39m\n\u001b[0;32m    202\u001b[0m     )\n\u001b[0;32m    204\u001b[0m \u001b[38;5;28;01mif\u001b[39;00m \u001b[38;5;28many\u001b[39m(\u001b[38;5;129;01mnot\u001b[39;00m qarg \u001b[38;5;28;01mfor\u001b[39;00m qarg \u001b[38;5;129;01min\u001b[39;00m qargs):\n\u001b[0;32m    205\u001b[0m     \u001b[38;5;28;01mraise\u001b[39;00m CircuitError(\u001b[38;5;124m\"\u001b[39m\u001b[38;5;124mOne or more of the arguments are empty\u001b[39m\u001b[38;5;124m\"\u001b[39m)\n",
      "\u001b[1;31mCircuitError\u001b[0m: 'The amount of qubit(3)/clbit(0) arguments does not match the gate expectation (4).'"
     ]
    }
   ],
   "source": [
    "n = 5\n",
    "qc = QuantumCircuit(n)\n",
    "ancilla = 3\n",
    "auxiliary = 4\n",
    "\n",
    "first_amp = phase_amp(n,0,2,2).to_gate()\n",
    "first_amp.label = 'Phase Amp'\n",
    "first_iqft = iqft(n-1).to_gate()\n",
    "first_iqft.label = 'IQFT'\n",
    "phase_encoding = phase_enc(n, 0, 2, 3).to_gate()\n",
    "phase_encoding.label = 'Phase Enc'\n",
    "second_iqft = iqft(n-1).to_gate().inverse()\n",
    "second_iqft.label = 'IQFT†'\n",
    "second_amp = phase_amp(n,0,2,2).to_gate().inverse()\n",
    "second_amp.label = 'Phase Amp†'\n",
    "train_oracle = training_oracle(n, 1, 2, 3, 4).to_gate()\n",
    "train_oracle.label = 'Training Oracle'\n",
    "\n",
    "\n",
    "qc.h([0,1])\n",
    "qc.append(first_amp, range(n))\n",
    "qc.append(first_iqft, range(n-1))\n",
    "qc.barrier()\n",
    "qc.append(phase_encoding, range(n))\n",
    "qc.barrier()\n",
    "qc.append(second_iqft, range(n-1))\n",
    "qc.append(second_amp, range(n))\n",
    "qc.barrier()\n",
    "qc.h([0,1])\n",
    "qc.barrier()\n",
    "qc.append(train_oracle, range(n))\n",
    "\n",
    "qc.draw()\n"
   ]
  },
  {
   "cell_type": "markdown",
   "id": "3d2f8700",
   "metadata": {},
   "source": [
    "## Playground"
   ]
  },
  {
   "cell_type": "code",
   "execution_count": 39,
   "id": "ec5860ac",
   "metadata": {},
   "outputs": [
    {
     "data": {
      "image/png": "[encoded data removed]",
      "text/plain": [
       "<Figure size 206.997x264.88 with 1 Axes>"
      ]
     },
     "execution_count": 39,
     "metadata": {},
     "output_type": "execute_result"
    }
   ],
   "source": [
    "qc = QuantumCircuit(4)\n",
    "\n",
    "for count in range(2):\n",
    "    divisor = 2 ** (count+2)\n",
    "    qc.crx(math.pi/divisor, count, 3)\n",
    "qc.draw()"
   ]
  },
  {
   "cell_type": "code",
   "execution_count": 20,
   "id": "0d0cff7d",
   "metadata": {},
   "outputs": [
    {
     "name": "stdout",
     "output_type": "stream",
     "text": [
      "['0', '1', '1']\n"
     ]
    }
   ],
   "source": [
    "s = \"{0:b}\".format(3)\n",
    "num = len(s)\n",
    "\n",
    "if len(s) != bin_length:\n",
    "    temp = []\n",
    "    for i in range(bin_length - len(s)):\n",
    "        temp.append('0')\n",
    "    temp = temp + list(s)\n",
    "    s = temp\n",
    "print(str(s))"
   ]
  },
  {
   "cell_type": "code",
   "execution_count": 32,
   "id": "a9e00f7b",
   "metadata": {},
   "outputs": [
    {
     "data": {
      "text/plain": [
       "[0, 1, 2, 3, 4, 5]"
      ]
     },
     "execution_count": 32,
     "metadata": {},
     "output_type": "execute_result"
    }
   ],
   "source": [
    "[x for x in range(0, 4+2)]"
   ]
  },
  {
   "cell_type": "code",
   "execution_count": 29,
   "id": "64cf60fb",
   "metadata": {},
   "outputs": [
    {
     "data": {
      "image/png": "[encoded data removed]",
      "text/plain": [
       "<Figure size 146.797x325.08 with 1 Axes>"
      ]
     },
     "execution_count": 29,
     "metadata": {},
     "output_type": "execute_result"
    }
   ],
   "source": [
    "qc = QuantumCircuit(5)\n",
    "mcx = MCXGate(4)\n",
    "\n",
    "circuit = QuantumCircuit(5)\n",
    "circuit.append(mcx, [0, 1, 3, 4, 2])\n",
    "circuit.draw('mpl')"
   ]
  },
  {
   "cell_type": "code",
   "execution_count": 37,
   "id": "3eea114c",
   "metadata": {},
   "outputs": [
    {
     "data": {
      "image/png": "[encoded data removed]",
      "text/plain": [
       "<Figure size 146.797x325.08 with 1 Axes>"
      ]
     },
     "execution_count": 37,
     "metadata": {},
     "output_type": "execute_result"
    }
   ],
   "source": [
    "qc = QuantumCircuit(5)\n",
    "ch = CHGate()\n",
    "\n",
    "qc.append(ch, [0,3])\n",
    "qc.draw()"
   ]
  },
  {
   "cell_type": "code",
   "execution_count": null,
   "id": "e87099ab",
   "metadata": {},
   "outputs": [],
   "source": []
  }
 ],
 "metadata": {
  "kernelspec": {
   "display_name": "Python 3 (ipykernel)",
   "language": "python",
   "name": "python3"
  },
  "language_info": {
   "codemirror_mode": {
    "name": "ipython",
    "version": 3
   },
   "file_extension": ".py",
   "mimetype": "text/x-python",
   "name": "python",
   "nbconvert_exporter": "python",
   "pygments_lexer": "ipython3",
   "version": "3.9.12"
  }
 },
 "nbformat": 4,
 "nbformat_minor": 5
}
